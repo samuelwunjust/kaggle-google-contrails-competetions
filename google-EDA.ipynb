{
 "cells": [
  {
   "cell_type": "code",
   "execution_count": 1,
   "metadata": {},
   "outputs": [],
   "source": [
    "import os\n",
    "import math\n",
    "from IPython import display\n",
    "\n",
    "import numpy as np\n",
    "import matplotlib.pyplot as plt\n",
    "from matplotlib import animation"
   ]
  },
  {
   "cell_type": "code",
   "execution_count": null,
   "metadata": {},
   "outputs": [],
   "source": [
    "class google_contrails:\n",
    "    train_path: str = \"/kaggle/input/google-research-identify-contrails-reduce-global-warming/train\"\n",
    "    validation_path: str = \"/kaggle/input/google-research-identify-contrails-reduce-global-warming/validation\"\n",
    "    test_path: str = \"/kaggle/input/google-research-identify-contrails-reduce-global-warming/test\""
   ]
  },
  {
   "cell_type": "code",
   "execution_count": null,
   "metadata": {},
   "outputs": [],
   "source": [
    "def read_record(record_id,directory):\n",
    "    record_datas={}\n",
    "    for x in[\n",
    "    \"band_11\",\n",
    "    \"band_14\",\n",
    "    \"band_15\",\n",
    "    \"human_pixel_masks\",\n",
    "    \"human_individual_masks\"\n",
    "\n",
    "    ]:  \n",
    "     try:\n",
    "        with open(os.path.join(directory,record_id,x+\".npy\"),'rb') as f:\n",
    "                    record_datas[x]=np.load(f)\n",
    "     except Exception as e:\n",
    "          pass\n",
    "     return record_datas\n",
    "def normalize_range(data, bounds):\n",
    "    \n",
    "    return (data - bounds[0]) / (bounds[1] - bounds[0])\n",
    "\n",
    "def get_false_color(record_data):\n",
    "    _T11_BOUNDS = (243, 303)\n",
    "    _CLOUD_TOP_TDIFF_BOUNDS = (-4, 5)\n",
    "    _TDIFF_BOUNDS = (-4, 2)\n",
    "\n",
    "    r = normalize_range(record_data[\"band_15\"] - record_data[\"band_14\"], _TDIFF_BOUNDS)\n",
    "    g = normalize_range(record_data[\"band_14\"] - record_data[\"band_11\"], _CLOUD_TOP_TDIFF_BOUNDS)\n",
    "    b = normalize_range(record_data[\"band_14\"], _T11_BOUNDS)\n",
    "    false_color = np.clip(np.stack([r, g, b], axis=2), 0, 1)\n",
    "    \n",
    "    return false_color\n"
   ]
  },
  {
   "cell_type": "code",
   "execution_count": null,
   "metadata": {},
   "outputs": [],
   "source": [
    "N_TIMES_BEFORE = 4\n",
    "record_id = \"1000603527582775543\"\n",
    "\n",
    "record_data = read_record(record_id,google_contrails.train_path)\n",
    "false_color=get_false_color(record_data)\n",
    "img = false_color[..., N_TIMES_BEFORE]\n",
    "plt.figure(figsize=(6,18))\n",
    "ax=plt.subplot(3,1,1)\n",
    "ax=plt.imshow(img)\n",
    "ax.set_title('False_color')\n",
    "\n",
    "ax=plt.subplot(3,1,2)\n",
    "ax=plt.imshow(record_data[\"human_pixel_masks\"],interpolation=\"none\")\n",
    "ax.set_title(\"ground_truth contrial mask\")\n",
    "\n",
    "ax=plt.subplot(3,1,3)\n",
    "ax=plt.imshow(record_data[\"human_pixel_masks\"],cmap=\"Reds\",alpha=.4,interpolation=\"none\")\n",
    "ax.set_title(\"contrail mask on false color\")\n",
    "\n",
    "\n"
   ]
  },
  {
   "cell_type": "code",
   "execution_count": null,
   "metadata": {},
   "outputs": [],
   "source": [
    "count=record_data[\"human_individual_masks\"].shape[-1]\n",
    "m=math.ceil(record_data[\"human_individual_masks\"].shape[-1]/2)\n",
    "n=2\n",
    "plt.figure(figsize=(n*8,m*8))\n",
    "for i in range(count):\n",
    "    plt.subplot(m,n,i+1)\n",
    "    plt.imshow(record_data[\"human_individual_mask\"][...,i],interpolation=\"none\")\n",
    "    \n"
   ]
  },
  {
   "cell_type": "code",
   "execution_count": null,
   "metadata": {},
   "outputs": [],
   "source": [
    "N_TIMES_BEFORE = 4\n",
    "record_id = \"1002294268041839364\"\n",
    "\n",
    "record_data2 = read_record(record_id, google_contrails.train_path)\n",
    "false_color2=get_false_color(record_data2)\n",
    "img2=false_color2[...,N_TIMES_BEFORE]\n",
    "\n",
    "plt.figure(figsize=(6,18))\n",
    "ax=plt.subplot(3,1,1)\n",
    "ax=plt.imshow(img2)\n",
    "ax.set_title(\"False color\")\n",
    "\n",
    "ax=plt.subplot(3,1,2)\n",
    "ax=plt.imshow(record_data2[\"human_pixel_masks\"],interpolation=\"none\")\n",
    "ax.set_title(\"contrial truth mask\")\n",
    "\n",
    "ax=plt.subplot(3,1,3)\n",
    "ax=plt.imshow(record_data2[\"human_pixel_masks\"],cmap=\"Red\",interpolation=\"none\")\n",
    "ax=plt.imshow(img2)\n",
    "ax.set_title(\"contrial mask on img\")"
   ]
  },
  {
   "cell_type": "code",
   "execution_count": null,
   "metadata": {},
   "outputs": [],
   "source": [
    "count=record_data2[\"human_individual_masks\"].shape[-1]\n",
    "m=math.ceil(record_data2[\"human_individual_masks\"].shape[-1]/2)\n",
    "n=2\n",
    "plt.figure(figsize=(n*8,m*8))\n",
    "for i in range(count):\n",
    "    plt.subplot(m,n,i+1)\n",
    "    plt.imshow(record_data2[\"human_individual_masks\"][...,i],interpolation=\"none\")\n",
    "    \n"
   ]
  }
 ],
 "metadata": {
  "kernelspec": {
   "display_name": "Python 3",
   "language": "python",
   "name": "python3"
  },
  "language_info": {
   "codemirror_mode": {
    "name": "ipython",
    "version": 3
   },
   "file_extension": ".py",
   "mimetype": "text/x-python",
   "name": "python",
   "nbconvert_exporter": "python",
   "pygments_lexer": "ipython3",
   "version": "3.11.2"
  },
  "orig_nbformat": 4
 },
 "nbformat": 4,
 "nbformat_minor": 2
}
