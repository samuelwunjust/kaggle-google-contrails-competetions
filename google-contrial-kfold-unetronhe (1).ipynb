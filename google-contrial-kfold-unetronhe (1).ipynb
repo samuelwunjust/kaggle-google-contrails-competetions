{
 "cells": [
  {
   "cell_type": "markdown",
   "id": "b2782e53",
   "metadata": {
    "papermill": {
     "duration": 0.008191,
     "end_time": "2023-08-07T03:18:48.358543",
     "exception": false,
     "start_time": "2023-08-07T03:18:48.350352",
     "status": "completed"
    },
    "tags": []
   },
   "source": [
    "### inference part"
   ]
  },
  {
   "cell_type": "code",
   "execution_count": 1,
   "id": "b3334637",
   "metadata": {
    "execution": {
     "iopub.execute_input": "2023-08-07T03:18:48.375330Z",
     "iopub.status.busy": "2023-08-07T03:18:48.374851Z",
     "iopub.status.idle": "2023-08-07T03:18:58.502038Z",
     "shell.execute_reply": "2023-08-07T03:18:58.500626Z"
    },
    "papermill": {
     "duration": 10.138969,
     "end_time": "2023-08-07T03:18:58.505250",
     "exception": false,
     "start_time": "2023-08-07T03:18:48.366281",
     "status": "completed"
    },
    "tags": []
   },
   "outputs": [
    {
     "name": "stderr",
     "output_type": "stream",
     "text": [
      "/kaggle/working/../input/pretrained-models-pytorch/pretrainedmodels/models/dpn.py:255: SyntaxWarning: \"is\" with a literal. Did you mean \"==\"?\n",
      "  if block_type is 'proj':\n",
      "/kaggle/working/../input/pretrained-models-pytorch/pretrainedmodels/models/dpn.py:258: SyntaxWarning: \"is\" with a literal. Did you mean \"==\"?\n",
      "  elif block_type is 'down':\n",
      "/kaggle/working/../input/pretrained-models-pytorch/pretrainedmodels/models/dpn.py:262: SyntaxWarning: \"is\" with a literal. Did you mean \"==\"?\n",
      "  assert block_type is 'normal'\n"
     ]
    }
   ],
   "source": [
    "import sys\n",
    "sys.path.append(\"../input/pretrained-models-pytorch\")\n",
    "sys.path.append(\"../input/efficientnet-pytorch\")\n",
    "sys.path.append(\"/kaggle/input/smp-github/segmentation_models.pytorch-master\")\n",
    "sys.path.append(\"/kaggle/input/timm-pretrained-resnest/resnest/\")\n",
    "import segmentation_models_pytorch as smp\n",
    "!mkdir -p /root/.cache/torch/hub/checkpoints/\n",
    "!cp /kaggle/input/timm-pretrained-resnest/resnest/gluon_resnest26-50eb607c.pth /root/.cache/torch/hub/checkpoints/gluon_resnest26-50eb607c.pth"
   ]
  },
  {
   "cell_type": "code",
   "execution_count": 2,
   "id": "47e12afb",
   "metadata": {
    "execution": {
     "iopub.execute_input": "2023-08-07T03:18:58.521974Z",
     "iopub.status.busy": "2023-08-07T03:18:58.521643Z",
     "iopub.status.idle": "2023-08-07T03:18:58.531012Z",
     "shell.execute_reply": "2023-08-07T03:18:58.530153Z"
    },
    "papermill": {
     "duration": 0.020171,
     "end_time": "2023-08-07T03:18:58.533080",
     "exception": false,
     "start_time": "2023-08-07T03:18:58.512909",
     "status": "completed"
    },
    "tags": []
   },
   "outputs": [
    {
     "name": "stdout",
     "output_type": "stream",
     "text": [
      "Writing config.yaml\n"
     ]
    }
   ],
   "source": [
    "%%writefile config.yaml\n",
    "\n",
    "data_path: \"/kaggle/input/contrails-images-ash-color\"\n",
    "output_dir: \"models\"\n",
    "\n",
    "folds:\n",
    "    n_splits: 4\n",
    "    random_state: 42\n",
    "train_folds: [0, 1, 2, 3]\n",
    "    \n",
    "seed: 42\n",
    "\n",
    "train_bs: 48\n",
    "valid_bs: 128\n",
    "workers: 2\n",
    "\n",
    "progress_bar_refresh_rate: 1\n",
    "\n",
    "early_stop:\n",
    "    monitor: \"val_loss\"\n",
    "    mode: \"min\"\n",
    "    patience: 999\n",
    "    verbose: 1\n",
    "\n",
    "trainer:\n",
    "    max_epochs: 20\n",
    "    min_epochs: 20\n",
    "    enable_progress_bar: True\n",
    "    precision: \"16-mixed\"\n",
    "    devices: 2\n",
    "\n",
    "model:\n",
    "    seg_model: \"Unet++\"\n",
    "    encoder_name: \"timm-resnest26d\"\n",
    "    loss_smooth: 1.0\n",
    "    image_size: 384\n",
    "    optimizer_params:\n",
    "        lr: 0.0005\n",
    "        weight_decay: 0.0\n",
    "    scheduler:\n",
    "        name: \"cosine_with_hard_restarts_schedule_with_warmup\"\n",
    "        params:\n",
    "            cosine_with_hard_restarts_schedule_with_warmup:\n",
    "                num_warmup_steps: 350\n",
    "                num_training_steps: 3150\n",
    "                num_cycles: 1"
   ]
  },
  {
   "cell_type": "code",
   "execution_count": 3,
   "id": "c75b89e5",
   "metadata": {
    "execution": {
     "iopub.execute_input": "2023-08-07T03:18:58.549657Z",
     "iopub.status.busy": "2023-08-07T03:18:58.548890Z",
     "iopub.status.idle": "2023-08-07T03:19:10.224235Z",
     "shell.execute_reply": "2023-08-07T03:19:10.223236Z"
    },
    "papermill": {
     "duration": 11.686277,
     "end_time": "2023-08-07T03:19:10.226724",
     "exception": false,
     "start_time": "2023-08-07T03:18:58.540447",
     "status": "completed"
    },
    "tags": []
   },
   "outputs": [
    {
     "name": "stderr",
     "output_type": "stream",
     "text": [
      "/opt/conda/lib/python3.10/site-packages/scipy/__init__.py:146: UserWarning: A NumPy version >=1.16.5 and <1.23.0 is required for this version of SciPy (detected version 1.23.5\n",
      "  warnings.warn(f\"A NumPy version >={np_minversion} and <{np_maxversion}\"\n",
      "/opt/conda/lib/python3.10/site-packages/tensorflow_io/python/ops/__init__.py:98: UserWarning: unable to load libtensorflow_io_plugins.so: unable to open file: libtensorflow_io_plugins.so, from paths: ['/opt/conda/lib/python3.10/site-packages/tensorflow_io/python/ops/libtensorflow_io_plugins.so']\n",
      "caused by: ['/opt/conda/lib/python3.10/site-packages/tensorflow_io/python/ops/libtensorflow_io_plugins.so: undefined symbol: _ZN3tsl6StatusC1EN10tensorflow5error4CodeESt17basic_string_viewIcSt11char_traitsIcEENS_14SourceLocationE']\n",
      "  warnings.warn(f\"unable to load libtensorflow_io_plugins.so: {e}\")\n",
      "/opt/conda/lib/python3.10/site-packages/tensorflow_io/python/ops/__init__.py:104: UserWarning: file system plugins are not loaded: unable to open file: libtensorflow_io.so, from paths: ['/opt/conda/lib/python3.10/site-packages/tensorflow_io/python/ops/libtensorflow_io.so']\n",
      "caused by: ['/opt/conda/lib/python3.10/site-packages/tensorflow_io/python/ops/libtensorflow_io.so: undefined symbol: _ZTVN10tensorflow13GcsFileSystemE']\n",
      "  warnings.warn(f\"file system plugins are not loaded: {e}\")\n"
     ]
    }
   ],
   "source": [
    "import torch\n",
    "import sys\n",
    "import gc\n",
    "import os\n",
    "import glob\n",
    "import yaml\n",
    "import pandas as pd\n",
    "import numpy as np\n",
    "import torch.nn as n\n",
    "import pytorch_lightning as pl\n",
    "from torch.utils.data import DataLoader\n",
    "from pytorch_lightning.loggers import CSVLogger\n",
    "import pytorch_lightning as pl\n",
    "import torchvision.transforms as T\n",
    "from torchmetrics.functional import dice\n",
    "from torch.utils.data import Dataset, DataLoader\n",
    "from pytorch_lightning.callbacks import ModelCheckpoint, EarlyStopping, TQDMProgressBar\n",
    "import segmentation_models_pytorch as smp\n",
    "\n",
    "import warnings\n",
    "warnings.filterwarnings(\"ignore\")\n",
    "torch.set_float32_matmul_precision(\"medium\")"
   ]
  },
  {
   "cell_type": "code",
   "execution_count": 4,
   "id": "ac0cc5e2",
   "metadata": {
    "execution": {
     "iopub.execute_input": "2023-08-07T03:19:10.245463Z",
     "iopub.status.busy": "2023-08-07T03:19:10.243634Z",
     "iopub.status.idle": "2023-08-07T03:19:10.250923Z",
     "shell.execute_reply": "2023-08-07T03:19:10.249923Z"
    },
    "papermill": {
     "duration": 0.018208,
     "end_time": "2023-08-07T03:19:10.253041",
     "exception": false,
     "start_time": "2023-08-07T03:19:10.234833",
     "status": "completed"
    },
    "tags": []
   },
   "outputs": [],
   "source": [
    "seg_models = {\n",
    "    \"Unet\": smp.Unet,\n",
    "    \"Unet++\": smp.UnetPlusPlus,\n",
    "    \"MAnet\": smp.MAnet,\n",
    "    \"Linknet\": smp.Linknet,\n",
    "    \"FPN\": smp.FPN,\n",
    "    \"PSPNet\": smp.PSPNet,\n",
    "    \"PAN\": smp.PAN,\n",
    "    \"DeepLabV3\": smp.DeepLabV3,\n",
    "    \"DeepLabV3+\": smp.DeepLabV3Plus,\n",
    "}"
   ]
  },
  {
   "cell_type": "code",
   "execution_count": 5,
   "id": "ea2cd30d",
   "metadata": {
    "execution": {
     "iopub.execute_input": "2023-08-07T03:19:10.270009Z",
     "iopub.status.busy": "2023-08-07T03:19:10.269196Z",
     "iopub.status.idle": "2023-08-07T03:19:10.285542Z",
     "shell.execute_reply": "2023-08-07T03:19:10.284683Z"
    },
    "papermill": {
     "duration": 0.027205,
     "end_time": "2023-08-07T03:19:10.287850",
     "exception": false,
     "start_time": "2023-08-07T03:19:10.260645",
     "status": "completed"
    },
    "tags": []
   },
   "outputs": [],
   "source": [
    "with open(\"config.yaml\", \"r\") as file_obj:\n",
    "    config = yaml.safe_load(file_obj)\n",
    "\n",
    "pl.seed_everything(config[\"seed\"])\n",
    "gc.enable()"
   ]
  },
  {
   "cell_type": "code",
   "execution_count": 6,
   "id": "53427d25",
   "metadata": {
    "_kg_hide-output": true,
    "execution": {
     "iopub.execute_input": "2023-08-07T03:19:10.303813Z",
     "iopub.status.busy": "2023-08-07T03:19:10.303547Z",
     "iopub.status.idle": "2023-08-07T03:19:10.308569Z",
     "shell.execute_reply": "2023-08-07T03:19:10.307698Z"
    },
    "papermill": {
     "duration": 0.015309,
     "end_time": "2023-08-07T03:19:10.310666",
     "exception": false,
     "start_time": "2023-08-07T03:19:10.295357",
     "status": "completed"
    },
    "tags": []
   },
   "outputs": [],
   "source": [
    "import warnings\n",
    "warnings.filterwarnings(\"ignore\")\n",
    "\n",
    "import gc\n",
    "import os\n",
    "import glob\n",
    "\n",
    "import numpy as np\n",
    "import pandas as pd\n",
    "\n",
    "import torch\n",
    "from torch import nn\n",
    "from torch.utils.data import Dataset, DataLoader\n",
    "\n",
    "import pytorch_lightning as pl\n",
    "import torchvision.transforms as T\n",
    "import yaml"
   ]
  },
  {
   "cell_type": "code",
   "execution_count": 7,
   "id": "dcff9aae",
   "metadata": {
    "execution": {
     "iopub.execute_input": "2023-08-07T03:19:10.327648Z",
     "iopub.status.busy": "2023-08-07T03:19:10.326840Z",
     "iopub.status.idle": "2023-08-07T03:19:10.369355Z",
     "shell.execute_reply": "2023-08-07T03:19:10.368470Z"
    },
    "papermill": {
     "duration": 0.053129,
     "end_time": "2023-08-07T03:19:10.371603",
     "exception": false,
     "start_time": "2023-08-07T03:19:10.318474",
     "status": "completed"
    },
    "tags": []
   },
   "outputs": [],
   "source": [
    "batch_size = 32\n",
    "num_workers = 1\n",
    "THR = 0.5\n",
    "device = torch.device('cuda' if torch.cuda.is_available() else 'cpu')\n",
    "data = '/kaggle/input/google-research-identify-contrails-reduce-global-warming'\n",
    "data_root = '/kaggle/input/google-research-identify-contrails-reduce-global-warming/test/'\n",
    "submission = pd.read_csv(os.path.join(data, 'sample_submission.csv'), index_col='record_id')"
   ]
  },
  {
   "cell_type": "code",
   "execution_count": 8,
   "id": "b90e7c6e",
   "metadata": {
    "execution": {
     "iopub.execute_input": "2023-08-07T03:19:10.388844Z",
     "iopub.status.busy": "2023-08-07T03:19:10.388147Z",
     "iopub.status.idle": "2023-08-07T03:19:10.396800Z",
     "shell.execute_reply": "2023-08-07T03:19:10.395917Z"
    },
    "papermill": {
     "duration": 0.019452,
     "end_time": "2023-08-07T03:19:10.399069",
     "exception": false,
     "start_time": "2023-08-07T03:19:10.379617",
     "status": "completed"
    },
    "tags": []
   },
   "outputs": [],
   "source": [
    "filenames = os.listdir(data_root)\n",
    "test_df = pd.DataFrame(filenames, columns=['record_id'])\n",
    "test_df['path'] = data_root + test_df['record_id'].astype(str)"
   ]
  },
  {
   "cell_type": "code",
   "execution_count": 9,
   "id": "4e2352d4",
   "metadata": {
    "execution": {
     "iopub.execute_input": "2023-08-07T03:19:10.416228Z",
     "iopub.status.busy": "2023-08-07T03:19:10.415907Z",
     "iopub.status.idle": "2023-08-07T03:19:10.431309Z",
     "shell.execute_reply": "2023-08-07T03:19:10.430238Z"
    },
    "papermill": {
     "duration": 0.026996,
     "end_time": "2023-08-07T03:19:10.433726",
     "exception": false,
     "start_time": "2023-08-07T03:19:10.406730",
     "status": "completed"
    },
    "tags": []
   },
   "outputs": [],
   "source": [
    "class ContrailsDataset(torch.utils.data.Dataset):\n",
    "    def __init__(self, df, image_size=256, train=True):\n",
    "        \n",
    "        self.df = df\n",
    "        self.trn = train\n",
    "        self.df_idx: pd.DataFrame = pd.DataFrame({'idx': os.listdir(f'/kaggle/input/google-research-identify-contrails-reduce-global-warming/test')})\n",
    "        self.normalize_image = T.Normalize((0.485, 0.456, 0.406), (0.229, 0.224, 0.225))\n",
    "        self.image_size = image_size\n",
    "        if image_size != 256:\n",
    "            self.resize_image = T.transforms.Resize(image_size)\n",
    "    \n",
    "    def read_record(self, directory):\n",
    "        record_data = {}\n",
    "        for x in [\n",
    "            \"band_11\", \n",
    "            \"band_14\", \n",
    "            \"band_15\"\n",
    "        ]:\n",
    "\n",
    "            record_data[x] = np.load(os.path.join(directory, x + \".npy\"))\n",
    "\n",
    "        return record_data\n",
    "\n",
    "    def normalize_range(self, data, bounds):\n",
    "        \"\"\"Maps data to the range [0, 1].\"\"\"\n",
    "        return (data - bounds[0]) / (bounds[1] - bounds[0])\n",
    "    \n",
    "    def get_false_color(self, record_data):\n",
    "        _T11_BOUNDS = (243, 303)\n",
    "        _CLOUD_TOP_TDIFF_BOUNDS = (-4, 5)\n",
    "        _TDIFF_BOUNDS = (-4, 2)\n",
    "        \n",
    "        N_TIMES_BEFORE = 4\n",
    "\n",
    "        r = self.normalize_range(record_data[\"band_15\"] - record_data[\"band_14\"], _TDIFF_BOUNDS)\n",
    "        g = self.normalize_range(record_data[\"band_14\"] - record_data[\"band_11\"], _CLOUD_TOP_TDIFF_BOUNDS)\n",
    "        b = self.normalize_range(record_data[\"band_14\"], _T11_BOUNDS)\n",
    "        false_color = np.clip(np.stack([r, g, b], axis=2), 0, 1)\n",
    "        img = false_color[..., N_TIMES_BEFORE]\n",
    "\n",
    "        return img\n",
    "    \n",
    "    def __getitem__(self, index):\n",
    "        row = self.df.iloc[index]\n",
    "        con_path = row.path\n",
    "        data = self.read_record(con_path)    \n",
    "        \n",
    "        img = self.get_false_color(data)\n",
    "        \n",
    "        img = torch.tensor(np.reshape(img, (256, 256, 3))).to(torch.float32).permute(2, 0, 1)\n",
    "        \n",
    "        if self.image_size != 256:\n",
    "            img = self.resize_image(img)\n",
    "        \n",
    "        img = self.normalize_image(img)\n",
    "        \n",
    "        image_id = int(self.df_idx.iloc[index]['idx'])\n",
    "            \n",
    "        return img.float(), torch.tensor(image_id)\n",
    "    \n",
    "    def __len__(self):\n",
    "        return len(self.df)"
   ]
  },
  {
   "cell_type": "code",
   "execution_count": 10,
   "id": "a82ae3ef",
   "metadata": {
    "execution": {
     "iopub.execute_input": "2023-08-07T03:19:10.452326Z",
     "iopub.status.busy": "2023-08-07T03:19:10.450860Z",
     "iopub.status.idle": "2023-08-07T03:19:10.458712Z",
     "shell.execute_reply": "2023-08-07T03:19:10.457744Z"
    },
    "papermill": {
     "duration": 0.019133,
     "end_time": "2023-08-07T03:19:10.460880",
     "exception": false,
     "start_time": "2023-08-07T03:19:10.441747",
     "status": "completed"
    },
    "tags": []
   },
   "outputs": [],
   "source": [
    "def rle_encode(x, fg_val=1):\n",
    "    \"\"\"\n",
    "    Args:\n",
    "        x:  numpy array of shape (height, width), 1 - mask, 0 - background\n",
    "    Returns: run length encoding as list\n",
    "    \"\"\"\n",
    "\n",
    "    dots = np.where(\n",
    "        x.T.flatten() == fg_val)[0]  # .T sets Fortran order down-then-right\n",
    "    run_lengths = []\n",
    "    prev = -2\n",
    "    for b in dots:\n",
    "        if b > prev + 1:\n",
    "            run_lengths.extend((b + 1, 0))\n",
    "        run_lengths[-1] += 1\n",
    "        prev = b\n",
    "    return run_lengths\n",
    "\n",
    "def list_to_string(x):\n",
    "    \"\"\"\n",
    "    Converts list to a string representation\n",
    "    Empty list returns '-'\n",
    "    \"\"\"\n",
    "    if x: # non-empty list\n",
    "        s = str(x).replace(\"[\", \"\").replace(\"]\", \"\").replace(\",\", \"\")\n",
    "    else:\n",
    "        s = '-'\n",
    "    return s"
   ]
  },
  {
   "cell_type": "code",
   "execution_count": 11,
   "id": "8d1db0b6",
   "metadata": {
    "execution": {
     "iopub.execute_input": "2023-08-07T03:19:10.478201Z",
     "iopub.status.busy": "2023-08-07T03:19:10.477454Z",
     "iopub.status.idle": "2023-08-07T03:19:10.483121Z",
     "shell.execute_reply": "2023-08-07T03:19:10.482185Z"
    },
    "papermill": {
     "duration": 0.016563,
     "end_time": "2023-08-07T03:19:10.485270",
     "exception": false,
     "start_time": "2023-08-07T03:19:10.468707",
     "status": "completed"
    },
    "tags": []
   },
   "outputs": [],
   "source": [
    "class LightningModule(pl.LightningModule):\n",
    "    def __init__(self,config):\n",
    "        super().__init__()\n",
    "      \n",
    "        self.model = smp.UnetPlusPlus(encoder_name=\"timm-resnest26d\",\n",
    "                              encoder_weights=None,\n",
    "                              in_channels=3,\n",
    "                              classes=1,\n",
    "                              activation=None,\n",
    "                              )\n",
    "\n",
    "  \n",
    "    def forward(self, batch):\n",
    "        return self.model(batch)"
   ]
  },
  {
   "cell_type": "code",
   "execution_count": 12,
   "id": "d8a41deb",
   "metadata": {
    "execution": {
     "iopub.execute_input": "2023-08-07T03:19:10.503410Z",
     "iopub.status.busy": "2023-08-07T03:19:10.502027Z",
     "iopub.status.idle": "2023-08-07T03:19:10.517567Z",
     "shell.execute_reply": "2023-08-07T03:19:10.516600Z"
    },
    "papermill": {
     "duration": 0.026431,
     "end_time": "2023-08-07T03:19:10.519817",
     "exception": false,
     "start_time": "2023-08-07T03:19:10.493386",
     "status": "completed"
    },
    "tags": []
   },
   "outputs": [],
   "source": [
    "MODEL_PATH=glob.glob(\"/kaggle/input/unet-ronhe-model/unet++ronhe/*/best_model.ckpt\")"
   ]
  },
  {
   "cell_type": "code",
   "execution_count": 13,
   "id": "0522d419",
   "metadata": {
    "execution": {
     "iopub.execute_input": "2023-08-07T03:19:10.536899Z",
     "iopub.status.busy": "2023-08-07T03:19:10.536064Z",
     "iopub.status.idle": "2023-08-07T03:19:10.543746Z",
     "shell.execute_reply": "2023-08-07T03:19:10.542812Z"
    },
    "papermill": {
     "duration": 0.018208,
     "end_time": "2023-08-07T03:19:10.545789",
     "exception": false,
     "start_time": "2023-08-07T03:19:10.527581",
     "status": "completed"
    },
    "tags": []
   },
   "outputs": [
    {
     "data": {
      "text/plain": [
       "['/kaggle/input/unet-ronhe-model/unet++ronhe/fold_4/best_model.ckpt',\n",
       " '/kaggle/input/unet-ronhe-model/unet++ronhe/fold_1/best_model.ckpt',\n",
       " '/kaggle/input/unet-ronhe-model/unet++ronhe/fold_3/best_model.ckpt',\n",
       " '/kaggle/input/unet-ronhe-model/unet++ronhe/fold_2/best_model.ckpt',\n",
       " '/kaggle/input/unet-ronhe-model/unet++ronhe/fold_5/best_model.ckpt']"
      ]
     },
     "execution_count": 13,
     "metadata": {},
     "output_type": "execute_result"
    }
   ],
   "source": [
    "MODEL_PATH"
   ]
  },
  {
   "cell_type": "code",
   "execution_count": 14,
   "id": "89a16fce",
   "metadata": {
    "execution": {
     "iopub.execute_input": "2023-08-07T03:19:10.563408Z",
     "iopub.status.busy": "2023-08-07T03:19:10.562535Z",
     "iopub.status.idle": "2023-08-07T03:19:10.569551Z",
     "shell.execute_reply": "2023-08-07T03:19:10.568646Z"
    },
    "papermill": {
     "duration": 0.017897,
     "end_time": "2023-08-07T03:19:10.571644",
     "exception": false,
     "start_time": "2023-08-07T03:19:10.553747",
     "status": "completed"
    },
    "tags": []
   },
   "outputs": [],
   "source": [
    "test_ds = ContrailsDataset(\n",
    "        test_df,\n",
    "        config[\"model\"][\"image_size\"],\n",
    "        train = False\n",
    "    )\n",
    " \n",
    "test_dl = DataLoader(test_ds, batch_size=batch_size, num_workers = num_workers)\n"
   ]
  },
  {
   "cell_type": "code",
   "execution_count": 15,
   "id": "ce47fab1",
   "metadata": {
    "execution": {
     "iopub.execute_input": "2023-08-07T03:19:10.589246Z",
     "iopub.status.busy": "2023-08-07T03:19:10.588326Z",
     "iopub.status.idle": "2023-08-07T03:19:52.430546Z",
     "shell.execute_reply": "2023-08-07T03:19:52.429374Z"
    },
    "papermill": {
     "duration": 41.853811,
     "end_time": "2023-08-07T03:19:52.433301",
     "exception": false,
     "start_time": "2023-08-07T03:19:10.579490",
     "status": "completed"
    },
    "tags": []
   },
   "outputs": [
    {
     "name": "stdout",
     "output_type": "stream",
     "text": [
      "/kaggle/input/unet-ronhe-model/unet++ronhe/fold_4/best_model.ckpt\n",
      "/kaggle/input/unet-ronhe-model/unet++ronhe/fold_1/best_model.ckpt\n",
      "/kaggle/input/unet-ronhe-model/unet++ronhe/fold_3/best_model.ckpt\n",
      "/kaggle/input/unet-ronhe-model/unet++ronhe/fold_2/best_model.ckpt\n",
      "/kaggle/input/unet-ronhe-model/unet++ronhe/fold_5/best_model.ckpt\n"
     ]
    }
   ],
   "source": [
    "gc.enable()\n",
    "\n",
    "all_preds = {}\n",
    "\n",
    "for i, model_path in enumerate(MODEL_PATH):\n",
    "    print(model_path)\n",
    "    model = LightningModule(config[\"model\"]).load_from_checkpoint(model_path, config=config[\"model\"])\n",
    "    model.to(device)\n",
    "    model.eval()\n",
    "\n",
    "    model_preds = {}\n",
    "    \n",
    "    for _, data in enumerate(test_dl):\n",
    "        images, image_id = data\n",
    "    \n",
    "        images = images.to(device)\n",
    "        \n",
    "        with torch.no_grad():\n",
    "            predicted_mask = model(images[:, :, :, :])\n",
    "        if config[\"model\"][\"image_size\"] != 256:\n",
    "            predicted_mask = torch.nn.functional.interpolate(predicted_mask, size=256, mode='bilinear')\n",
    "        predicted_mask = torch.sigmoid(predicted_mask).cpu().detach().numpy()\n",
    "                \n",
    "        for img_num in range(0, images.shape[0]):\n",
    "            current_mask = predicted_mask[img_num, :, :, :]\n",
    "            current_image_id = image_id[img_num].item()\n",
    "            model_preds[current_image_id] = current_mask\n",
    "    all_preds[f\"f{i}\"] = model_preds\n",
    "    print(all_preds)\n",
    "    \n",
    "    del model    \n",
    "    torch.cuda.empty_cache()\n",
    "    gc.collect() "
   ]
  },
  {
   "cell_type": "code",
   "execution_count": null,
   "id": "2d4acac2",
   "metadata": {},
   "outputs": [],
   "source": []
  },
  {
   "cell_type": "code",
   "execution_count": 16,
   "id": "3d2113c8",
   "metadata": {
    "execution": {
     "iopub.execute_input": "2023-08-07T03:19:52.453124Z",
     "iopub.status.busy": "2023-08-07T03:19:52.451260Z",
     "iopub.status.idle": "2023-08-07T03:19:52.462790Z",
     "shell.execute_reply": "2023-08-07T03:19:52.461934Z"
    },
    "papermill": {
     "duration": 0.023064,
     "end_time": "2023-08-07T03:19:52.464886",
     "exception": false,
     "start_time": "2023-08-07T03:19:52.441822",
     "status": "completed"
    },
    "tags": []
   },
   "outputs": [],
   "source": [
    "Ids=[]\n",
    "Prob_1=[]\n",
    "\n",
    "for index in submission.index.tolist():\n",
    "    for i in range(len(MODEL_PATH )):\n",
    "        if i == 0:\n",
    "            predicted_mask = all_preds[f\"f{i}\"][index]\n",
    "            Ids.append(index)\n",
    "        else:\n",
    "            predicted_mask += all_preds[f\"f{i}\"][index]\n",
    "            Ids.append(index)\n",
    "    predicted_mask = predicted_mask / len(MODEL_PATH )\n",
    "    predicted_mask_with_threshold = np.zeros((256, 256))\n",
    "    predicted_mask_with_threshold[predicted_mask[0, :, :] < THR] = 0\n",
    "    predicted_mask_with_threshold[predicted_mask[0, :, :] > THR] = 1\n",
    "    submission.loc[int(index), 'encoded_pixels'] = list_to_string(rle_encode(predicted_mask_with_threshold))"
   ]
  },
  {
   "cell_type": "code",
   "execution_count": null,
   "id": "0cd4e6d8",
   "metadata": {},
   "outputs": [],
   "source": [
    "print(Ids)"
   ]
  },
  {
   "cell_type": "code",
   "execution_count": 17,
   "id": "63f8e19a",
   "metadata": {
    "execution": {
     "iopub.execute_input": "2023-08-07T03:19:52.482080Z",
     "iopub.status.busy": "2023-08-07T03:19:52.481809Z",
     "iopub.status.idle": "2023-08-07T03:19:52.494900Z",
     "shell.execute_reply": "2023-08-07T03:19:52.493846Z"
    },
    "papermill": {
     "duration": 0.024111,
     "end_time": "2023-08-07T03:19:52.497097",
     "exception": false,
     "start_time": "2023-08-07T03:19:52.472986",
     "status": "completed"
    },
    "tags": []
   },
   "outputs": [
    {
     "data": {
      "text/html": [
       "<div>\n",
       "<style scoped>\n",
       "    .dataframe tbody tr th:only-of-type {\n",
       "        vertical-align: middle;\n",
       "    }\n",
       "\n",
       "    .dataframe tbody tr th {\n",
       "        vertical-align: top;\n",
       "    }\n",
       "\n",
       "    .dataframe thead th {\n",
       "        text-align: right;\n",
       "    }\n",
       "</style>\n",
       "<table border=\"1\" class=\"dataframe\">\n",
       "  <thead>\n",
       "    <tr style=\"text-align: right;\">\n",
       "      <th></th>\n",
       "      <th>encoded_pixels</th>\n",
       "    </tr>\n",
       "    <tr>\n",
       "      <th>record_id</th>\n",
       "      <th></th>\n",
       "    </tr>\n",
       "  </thead>\n",
       "  <tbody>\n",
       "    <tr>\n",
       "      <th>1000834164244036115</th>\n",
       "      <td>-</td>\n",
       "    </tr>\n",
       "    <tr>\n",
       "      <th>1002653297254493116</th>\n",
       "      <td>-</td>\n",
       "    </tr>\n",
       "  </tbody>\n",
       "</table>\n",
       "</div>"
      ],
      "text/plain": [
       "                    encoded_pixels\n",
       "record_id                         \n",
       "1000834164244036115              -\n",
       "1002653297254493116              -"
      ]
     },
     "execution_count": 17,
     "metadata": {},
     "output_type": "execute_result"
    }
   ],
   "source": [
    "submission"
   ]
  },
  {
   "cell_type": "code",
   "execution_count": 18,
   "id": "360a9046",
   "metadata": {
    "execution": {
     "iopub.execute_input": "2023-08-07T03:19:52.514529Z",
     "iopub.status.busy": "2023-08-07T03:19:52.514256Z",
     "iopub.status.idle": "2023-08-07T03:19:52.521050Z",
     "shell.execute_reply": "2023-08-07T03:19:52.520215Z"
    },
    "papermill": {
     "duration": 0.017786,
     "end_time": "2023-08-07T03:19:52.523149",
     "exception": false,
     "start_time": "2023-08-07T03:19:52.505363",
     "status": "completed"
    },
    "tags": []
   },
   "outputs": [],
   "source": [
    "submission.to_csv('submission.csv')"
   ]
  },
  {
   "cell_type": "code",
   "execution_count": null,
   "id": "699d56dd",
   "metadata": {
    "papermill": {
     "duration": 0.007969,
     "end_time": "2023-08-07T03:19:52.539187",
     "exception": false,
     "start_time": "2023-08-07T03:19:52.531218",
     "status": "completed"
    },
    "tags": []
   },
   "outputs": [],
   "source": []
  },
  {
   "cell_type": "code",
   "execution_count": null,
   "id": "87e2866f",
   "metadata": {
    "papermill": {
     "duration": 0.007997,
     "end_time": "2023-08-07T03:19:52.555630",
     "exception": false,
     "start_time": "2023-08-07T03:19:52.547633",
     "status": "completed"
    },
    "tags": []
   },
   "outputs": [],
   "source": []
  },
  {
   "cell_type": "code",
   "execution_count": null,
   "id": "f9af9b0f",
   "metadata": {
    "papermill": {
     "duration": 0.008128,
     "end_time": "2023-08-07T03:19:52.571900",
     "exception": false,
     "start_time": "2023-08-07T03:19:52.563772",
     "status": "completed"
    },
    "tags": []
   },
   "outputs": [],
   "source": []
  },
  {
   "cell_type": "code",
   "execution_count": null,
   "id": "82cdf9c1",
   "metadata": {
    "papermill": {
     "duration": 0.008651,
     "end_time": "2023-08-07T03:19:52.589253",
     "exception": false,
     "start_time": "2023-08-07T03:19:52.580602",
     "status": "completed"
    },
    "tags": []
   },
   "outputs": [],
   "source": []
  },
  {
   "cell_type": "code",
   "execution_count": null,
   "id": "9077bf65",
   "metadata": {
    "papermill": {
     "duration": 0.008145,
     "end_time": "2023-08-07T03:19:52.605753",
     "exception": false,
     "start_time": "2023-08-07T03:19:52.597608",
     "status": "completed"
    },
    "tags": []
   },
   "outputs": [],
   "source": []
  },
  {
   "cell_type": "code",
   "execution_count": null,
   "id": "7bb9b4c9",
   "metadata": {
    "papermill": {
     "duration": 0.008333,
     "end_time": "2023-08-07T03:19:52.622848",
     "exception": false,
     "start_time": "2023-08-07T03:19:52.614515",
     "status": "completed"
    },
    "tags": []
   },
   "outputs": [],
   "source": []
  },
  {
   "cell_type": "code",
   "execution_count": null,
   "id": "346a4e47",
   "metadata": {
    "papermill": {
     "duration": 0.007981,
     "end_time": "2023-08-07T03:19:52.639055",
     "exception": false,
     "start_time": "2023-08-07T03:19:52.631074",
     "status": "completed"
    },
    "tags": []
   },
   "outputs": [],
   "source": []
  },
  {
   "cell_type": "code",
   "execution_count": null,
   "id": "4ba891c3",
   "metadata": {
    "papermill": {
     "duration": 0.008035,
     "end_time": "2023-08-07T03:19:52.655283",
     "exception": false,
     "start_time": "2023-08-07T03:19:52.647248",
     "status": "completed"
    },
    "tags": []
   },
   "outputs": [],
   "source": []
  },
  {
   "cell_type": "code",
   "execution_count": null,
   "id": "8c8d18f7",
   "metadata": {
    "papermill": {
     "duration": 0.008108,
     "end_time": "2023-08-07T03:19:52.671802",
     "exception": false,
     "start_time": "2023-08-07T03:19:52.663694",
     "status": "completed"
    },
    "tags": []
   },
   "outputs": [],
   "source": []
  }
 ],
 "metadata": {
  "kernelspec": {
   "display_name": "Python 3",
   "language": "python",
   "name": "python3"
  },
  "language_info": {
   "codemirror_mode": {
    "name": "ipython",
    "version": 3
   },
   "file_extension": ".py",
   "mimetype": "text/x-python",
   "name": "python",
   "nbconvert_exporter": "python",
   "pygments_lexer": "ipython3",
   "version": "3.10.12"
  },
  "papermill": {
   "default_parameters": {},
   "duration": 78.904317,
   "end_time": "2023-08-07T03:19:56.412706",
   "environment_variables": {},
   "exception": null,
   "input_path": "__notebook__.ipynb",
   "output_path": "__notebook__.ipynb",
   "parameters": {},
   "start_time": "2023-08-07T03:18:37.508389",
   "version": "2.4.0"
  }
 },
 "nbformat": 4,
 "nbformat_minor": 5
}
