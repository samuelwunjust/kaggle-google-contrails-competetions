{
 "cells": [
  {
   "cell_type": "code",
   "execution_count": 2,
   "metadata": {},
   "outputs": [
    {
     "name": "stderr",
     "output_type": "stream",
     "text": [
      "c:\\Users\\吴文烁\\AppData\\Local\\Programs\\Python\\Python311\\Lib\\site-packages\\tqdm\\auto.py:21: TqdmWarning: IProgress not found. Please update jupyter and ipywidgets. See https://ipywidgets.readthedocs.io/en/stable/user_install.html\n",
      "  from .autonotebook import tqdm as notebook_tqdm\n"
     ]
    }
   ],
   "source": [
    "import os\n",
    "import shutil\n",
    "import pathlib\n",
    "\n",
    "from PIL import Image\n",
    "import pandas as pd\n",
    "import numpy as np\n",
    "import cv2 as cv\n",
    "import random\n",
    "import matplotlib.pyplot as plt\n",
    "from tqdm.auto import tqdm\n",
    "\n",
    "import torch\n",
    "import torch.nn as nn\n",
    "import torch.nn.functional as F\n",
    "from torch import optim\n",
    "\n",
    "from torch.utils.data import DataLoader, random_split\n",
    "from torch.utils.data import Dataset\n",
    "\n",
    "import torchvision\n",
    "from torchvision import datasets\n",
    "import torchvision.transforms as T\n",
    "from torchvision.transforms import Compose, ToTensor, Resize\n",
    "from torchvision.utils import make_grid"
   ]
  },
  {
   "cell_type": "code",
   "execution_count": 8,
   "metadata": {},
   "outputs": [
    {
     "ename": "ModuleNotFoundError",
     "evalue": "No module named 'albumentations'",
     "output_type": "error",
     "traceback": [
      "\u001b[1;31m---------------------------------------------------------------------------\u001b[0m",
      "\u001b[1;31mModuleNotFoundError\u001b[0m                       Traceback (most recent call last)",
      "Cell \u001b[1;32mIn[8], line 1\u001b[0m\n\u001b[1;32m----> 1\u001b[0m \u001b[39mimport\u001b[39;00m \u001b[39malbumentations\u001b[39;00m \u001b[39mas\u001b[39;00m \u001b[39mA\u001b[39;00m\n\u001b[0;32m      2\u001b[0m \u001b[39mfrom\u001b[39;00m \u001b[39malbumentations\u001b[39;00m\u001b[39m.\u001b[39;00m\u001b[39mpytorch\u001b[39;00m \u001b[39mimport\u001b[39;00m ToTensorV2\n\u001b[0;32m      3\u001b[0m \u001b[39mimport\u001b[39;00m \u001b[39msegmentation_models_pytorch\u001b[39;00m \u001b[39mas\u001b[39;00m \u001b[39msmp\u001b[39;00m\n",
      "\u001b[1;31mModuleNotFoundError\u001b[0m: No module named 'albumentations'"
     ]
    }
   ],
   "source": [
    "import albumentations as A\n",
    "from albumentations.pytorch import ToTensorV2\n",
    "import segmentation_models_pytorch as smp"
   ]
  },
  {
   "cell_type": "code",
   "execution_count": 4,
   "metadata": {},
   "outputs": [],
   "source": [
    "CONFIG=dict(\n",
    "    seed=42,\n",
    "    IMAGE_SIZE=(512,512),\n",
    "    DATA_ROOT=\"\"\n",
    "    BATCH_SIZE=4, \n",
    "    NUM_EPOCH=5,\n",
    "    lr=0.0003,\n",
    "    n_channels=9\n",
    ")"
   ]
  },
  {
   "cell_type": "code",
   "execution_count": 5,
   "metadata": {},
   "outputs": [],
   "source": [
    "device=torch.device(\"cuda\") if torch.cuda.is_available() else torch.device(\"cpu\")\n"
   ]
  },
  {
   "cell_type": "code",
   "execution_count": 7,
   "metadata": {},
   "outputs": [
    {
     "ename": "NameError",
     "evalue": "name 'A' is not defined",
     "output_type": "error",
     "traceback": [
      "\u001b[1;31m---------------------------------------------------------------------------\u001b[0m",
      "\u001b[1;31mNameError\u001b[0m                                 Traceback (most recent call last)",
      "Cell \u001b[1;32mIn[7], line 1\u001b[0m\n\u001b[1;32m----> 1\u001b[0m train_transform \u001b[39m=\u001b[39m A\u001b[39m.\u001b[39mCompose([    \n\u001b[0;32m      2\u001b[0m          A\u001b[39m.\u001b[39mRandomCrop(height\u001b[39m=\u001b[39m\u001b[39m256\u001b[39m, width\u001b[39m=\u001b[39m\u001b[39m256\u001b[39m, always_apply\u001b[39m=\u001b[39m\u001b[39mTrue\u001b[39;00m),\n\u001b[0;32m      3\u001b[0m          A\u001b[39m.\u001b[39mOneOf(\n\u001b[0;32m      4\u001b[0m             [\n\u001b[0;32m      5\u001b[0m                 A\u001b[39m.\u001b[39mHorizontalFlip(p\u001b[39m=\u001b[39m\u001b[39m1\u001b[39m),\n\u001b[0;32m      6\u001b[0m                 A\u001b[39m.\u001b[39mVerticalFlip(p\u001b[39m=\u001b[39m\u001b[39m1\u001b[39m),\n\u001b[0;32m      7\u001b[0m                  A\u001b[39m.\u001b[39mRandomRotate90(p\u001b[39m=\u001b[39m\u001b[39m1\u001b[39m),\n\u001b[0;32m      8\u001b[0m              ],\n\u001b[0;32m      9\u001b[0m             p\u001b[39m=\u001b[39m\u001b[39m0.75\u001b[39m,\n\u001b[0;32m     10\u001b[0m         ),\n\u001b[0;32m     11\u001b[0m         ToTensorV2(),\n\u001b[0;32m     12\u001b[0m     ])\n\u001b[0;32m     14\u001b[0m test_transform \u001b[39m=\u001b[39m A\u001b[39m.\u001b[39mCompose([\n\u001b[0;32m     15\u001b[0m       A\u001b[39m.\u001b[39mPadIfNeeded(min_height\u001b[39m=\u001b[39m\u001b[39m1536\u001b[39m, min_width\u001b[39m=\u001b[39m\u001b[39m1536\u001b[39m, always_apply\u001b[39m=\u001b[39m\u001b[39mTrue\u001b[39;00m, border_mode\u001b[39m=\u001b[39m\u001b[39m0\u001b[39m),\n\u001b[0;32m     16\u001b[0m       A\u001b[39m.\u001b[39mToTensorV2()\n\u001b[0;32m     17\u001b[0m  ])\n\u001b[0;32m     19\u001b[0m train_transform \u001b[39m=\u001b[39m Compose([ToTensor()])\n",
      "\u001b[1;31mNameError\u001b[0m: name 'A' is not defined"
     ]
    }
   ],
   "source": [
    "train_transform = A.Compose([    \n",
    "         A.RandomCrop(height=256, width=256, always_apply=True),\n",
    "         A.OneOf(\n",
    "            [\n",
    "                A.HorizontalFlip(p=1),\n",
    "                A.VerticalFlip(p=1),\n",
    "                 A.RandomRotate90(p=1),\n",
    "             ],\n",
    "            p=0.75,\n",
    "        ),\n",
    "        ToTensorV2(),\n",
    "    ])\n",
    "\n",
    "test_transform = A.Compose([\n",
    "      A.PadIfNeeded(min_height=1536, min_width=1536, always_apply=True, border_mode=0),\n",
    "      A.ToTensorV2()\n",
    " ])\n",
    "\n",
    "train_transform = Compose([ToTensor()])\n",
    "val_transform = Compose([ToTensor()])\n",
    "test_transform = Compose([ToTensor()])"
   ]
  }
 ],
 "metadata": {
  "kernelspec": {
   "display_name": "Python 3",
   "language": "python",
   "name": "python3"
  },
  "language_info": {
   "codemirror_mode": {
    "name": "ipython",
    "version": 3
   },
   "file_extension": ".py",
   "mimetype": "text/x-python",
   "name": "python",
   "nbconvert_exporter": "python",
   "pygments_lexer": "ipython3",
   "version": "3.11.2"
  },
  "orig_nbformat": 4
 },
 "nbformat": 4,
 "nbformat_minor": 2
}
