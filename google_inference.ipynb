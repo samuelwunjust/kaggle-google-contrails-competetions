{
 "cells": [
  {
   "cell_type": "markdown",
   "id": "89e8f8e1",
   "metadata": {
    "papermill": {
     "duration": 0.004791,
     "end_time": "2023-07-20T16:45:59.468976",
     "exception": false,
     "start_time": "2023-07-20T16:45:59.464185",
     "status": "completed"
    },
    "tags": []
   },
   "source": [
    "### inference part"
   ]
  },
  {
   "cell_type": "code",
   "execution_count": 1,
   "id": "b5682cf1",
   "metadata": {
    "papermill": {
     "duration": 4.043374,
     "end_time": "2023-07-20T16:46:03.517313",
     "exception": false,
     "start_time": "2023-07-20T16:45:59.473939",
     "status": "completed"
    },
    "tags": []
   },
   "outputs": [],
   "source": [
    "#修改来自:https://www.kaggle.com/code/royalacecat/lb-0-661-test-4-folds-17model-ensemble\n",
    "import torch\n",
    "import sys\n",
    "import gc\n",
    "import os\n",
    "import glob\n",
    "import yaml\n",
    "import pandas as pd\n",
    "import numpy as np\n",
    "import torch.nn as n"
   ]
  },
  {
   "cell_type": "code",
   "execution_count": 2,
   "id": "78e9048d",
   "metadata": {
    "_kg_hide-output": true,
    "papermill": {
     "duration": 15.320121,
     "end_time": "2023-07-20T16:46:18.847608",
     "exception": false,
     "start_time": "2023-07-20T16:46:03.527487",
     "status": "completed"
    },
    "tags": []
   },
   "outputs": [],
   "source": [
    "import pytorch_lightning as pl\n",
    "from torch.utils.data import DataLoader\n",
    "from pytorch_lightning.loggers import CSVLogger\n",
    "import pytorch_lightning as pl\n",
    "import torchvision.transforms as T\n",
    "from torchmetrics.functional import dice\n",
    "from torch.utils.data import Dataset, DataLoader\n",
    "from pytorch_lightning.callbacks import ModelCheckpoint, EarlyStopping, TQDMProgressBar\n",
    "import segmentation_models_pytorch as smp\n",
    "\n",
    "import warnings\n",
    "warnings.filterwarnings(\"ignore\")\n",
    "torch.set_float32_matmul_precision(\"medium\")"
   ]
  },
  {
   "cell_type": "code",
   "execution_count": 3,
   "id": "5c9e8677",
   "metadata": {
    "papermill": {
     "duration": 0.016275,
     "end_time": "2023-07-20T16:46:18.869959",
     "exception": false,
     "start_time": "2023-07-20T16:46:18.853684",
     "status": "completed"
    },
    "tags": []
   },
   "outputs": [
    {
     "name": "stdout",
     "output_type": "stream",
     "text": [
      "Overwriting config.yaml\n"
     ]
    }
   ],
   "source": [
    "%%writefile config.yaml\n",
    "\n",
    "data_path: \"/kaggle/input/contrails-images-ash-color\"\n",
    "output_dir: \"models\"\n",
    "\n",
    "folds:\n",
    "    n_splits: 4\n",
    "    random_state: 42\n",
    "train_folds: [1, 2, 3, 4, 5]\n",
    "    \n",
    "seed: 42\n",
    "\n",
    "train_bs: 48\n",
    "valid_bs: 128\n",
    "workers: 2\n",
    "\n",
    "progress_bar_refresh_rate: 1\n",
    "\n",
    "early_stop:\n",
    "    monitor: \"val_loss\"\n",
    "    mode: \"min\"\n",
    "    patience: 999\n",
    "    verbose: 1\n",
    "\n",
    "trainer:\n",
    "    max_epochs: 20\n",
    "    min_epochs: 20\n",
    "    enable_progress_bar: True\n",
    "    precision: \"16-mixed\"\n",
    "    devices: 2\n",
    "\n",
    "model:\n",
    "    seg_model: \"Unet\"\n",
    "    encoder_name: \"timm-efficientnet-b0\"\n",
    "    loss_smooth: 1.0\n",
    "    image_size: 512\n",
    "    optimizer_params:\n",
    "        lr: 0.0005\n",
    "        weight_decay: 0.0\n",
    "    scheduler:\n",
    "        name: \"cosine_with_hard_restarts_schedule_with_warmup\"\n",
    "        params:\n",
    "            cosine_with_hard_restarts_schedule_with_warmup:\n",
    "                num_warmup_steps: 350\n",
    "                num_training_steps: 3150\n",
    "                num_cycles: 1"
   ]
  },
  {
   "cell_type": "code",
   "execution_count": 4,
   "id": "21e8905e",
   "metadata": {
    "_kg_hide-output": true,
    "papermill": {
     "duration": 0.014861,
     "end_time": "2023-07-20T16:46:18.890412",
     "exception": false,
     "start_time": "2023-07-20T16:46:18.875551",
     "status": "completed"
    },
    "tags": []
   },
   "outputs": [],
   "source": [
    "seg_models = {\n",
    "    \"Unet\": smp.Unet,\n",
    "    \"Unet++\": smp.UnetPlusPlus,\n",
    "    \"MAnet\": smp.MAnet,\n",
    "    \"Linknet\": smp.Linknet,\n",
    "    \"FPN\": smp.FPN,\n",
    "    \"PSPNet\": smp.PSPNet,\n",
    "    \"PAN\": smp.PAN,\n",
    "    \"DeepLabV3\": smp.DeepLabV3,\n",
    "    \"DeepLabV3+\": smp.DeepLabV3Plus,\n",
    "}"
   ]
  },
  {
   "cell_type": "code",
   "execution_count": 5,
   "id": "17befbbd",
   "metadata": {
    "_kg_hide-output": true,
    "papermill": {
     "duration": 0.026772,
     "end_time": "2023-07-20T16:46:18.922953",
     "exception": false,
     "start_time": "2023-07-20T16:46:18.896181",
     "status": "completed"
    },
    "tags": []
   },
   "outputs": [
    {
     "name": "stderr",
     "output_type": "stream",
     "text": [
      "Global seed set to 42\n"
     ]
    }
   ],
   "source": [
    "with open(\"config.yaml\", \"r\") as file_obj:\n",
    "    config = yaml.safe_load(file_obj)\n",
    "\n",
    "pl.seed_everything(config[\"seed\"])\n",
    "gc.enable()"
   ]
  },
  {
   "cell_type": "code",
   "execution_count": 6,
   "id": "1b718d88",
   "metadata": {
    "papermill": {
     "duration": 0.047192,
     "end_time": "2023-07-20T16:46:18.975807",
     "exception": false,
     "start_time": "2023-07-20T16:46:18.928615",
     "status": "completed"
    },
    "tags": []
   },
   "outputs": [],
   "source": [
    "batch_size = 32\n",
    "num_workers = 1\n",
    "THR = 0.5\n",
    "device = torch.device('cuda' if torch.cuda.is_available() else 'cpu')\n",
    "data = '.'\n",
    "data_root = './test/'\n",
    "submission = pd.read_csv(os.path.join(data, 'sample_submission.csv'), index_col='record_id')"
   ]
  },
  {
   "cell_type": "code",
   "execution_count": 7,
   "id": "9d4f7391",
   "metadata": {
    "papermill": {
     "duration": 0.017106,
     "end_time": "2023-07-20T16:46:18.998737",
     "exception": false,
     "start_time": "2023-07-20T16:46:18.981631",
     "status": "completed"
    },
    "tags": []
   },
   "outputs": [],
   "source": [
    "filenames = os.listdir(data_root)\n",
    "test_df = pd.DataFrame(filenames, columns=['record_id'])\n",
    "test_df['path'] = data_root + test_df['record_id'].astype(str)"
   ]
  },
  {
   "cell_type": "code",
   "execution_count": 8,
   "id": "84d55983",
   "metadata": {
    "papermill": {
     "duration": 0.024343,
     "end_time": "2023-07-20T16:46:19.028760",
     "exception": false,
     "start_time": "2023-07-20T16:46:19.004417",
     "status": "completed"
    },
    "tags": []
   },
   "outputs": [],
   "source": [
    "class ContrailsDataset(torch.utils.data.Dataset):\n",
    "    def __init__(self, df, image_size=256, train=True):\n",
    "        \n",
    "        self.df = df\n",
    "        self.trn = train\n",
    "        self.df_idx: pd.DataFrame = pd.DataFrame({'idx': os.listdir(f'./test')})\n",
    "        self.normalize_image = T.Normalize((0.485, 0.456, 0.406), (0.229, 0.224, 0.225))\n",
    "        self.image_size = image_size\n",
    "        if image_size != 256:\n",
    "            self.resize_image = T.transforms.Resize(image_size)\n",
    "    \n",
    "    def read_record(self, directory):\n",
    "        record_data = {}\n",
    "        for x in [\n",
    "            \"band_11\", \n",
    "            \"band_14\", \n",
    "            \"band_15\"\n",
    "        ]:\n",
    "\n",
    "            record_data[x] = np.load(os.path.join(directory, x + \".npy\"))\n",
    "\n",
    "        return record_data\n",
    "\n",
    "    def normalize_range(self, data, bounds):\n",
    "        \"\"\"Maps data to the range [0, 1].\"\"\"\n",
    "        return (data - bounds[0]) / (bounds[1] - bounds[0])\n",
    "    \n",
    "    def get_false_color(self, record_data):\n",
    "        _T11_BOUNDS = (243, 303)\n",
    "        _CLOUD_TOP_TDIFF_BOUNDS = (-4, 5)\n",
    "        _TDIFF_BOUNDS = (-4, 2)\n",
    "        \n",
    "        N_TIMES_BEFORE = 4\n",
    "\n",
    "        r = self.normalize_range(record_data[\"band_15\"] - record_data[\"band_14\"], _TDIFF_BOUNDS)\n",
    "        g = self.normalize_range(record_data[\"band_14\"] - record_data[\"band_11\"], _CLOUD_TOP_TDIFF_BOUNDS)\n",
    "        b = self.normalize_range(record_data[\"band_14\"], _T11_BOUNDS)\n",
    "        false_color = np.clip(np.stack([r, g, b], axis=2), 0, 1)\n",
    "        img = false_color[..., N_TIMES_BEFORE]\n",
    "\n",
    "        return img\n",
    "    \n",
    "    def __getitem__(self, index):\n",
    "        row = self.df.iloc[index]\n",
    "        con_path = row.path\n",
    "        data = self.read_record(con_path)    \n",
    "        \n",
    "        img = self.get_false_color(data)\n",
    "        \n",
    "        img = torch.tensor(np.reshape(img, (256, 256, 3))).to(torch.float32).permute(2, 0, 1)\n",
    "        \n",
    "        if self.image_size != 256:\n",
    "            img = self.resize_image(img)\n",
    "        \n",
    "        img = self.normalize_image(img)\n",
    "        \n",
    "        image_id = int(self.df_idx.iloc[index]['idx'])\n",
    "            \n",
    "        return img.float(), torch.tensor(image_id)\n",
    "    \n",
    "    def __len__(self):\n",
    "        return len(self.df)"
   ]
  },
  {
   "cell_type": "code",
   "execution_count": 9,
   "id": "89c2a374",
   "metadata": {
    "papermill": {
     "duration": 0.015729,
     "end_time": "2023-07-20T16:46:19.051046",
     "exception": false,
     "start_time": "2023-07-20T16:46:19.035317",
     "status": "completed"
    },
    "tags": []
   },
   "outputs": [],
   "source": [
    "def rle_encode(x, fg_val=1):\n",
    "    \"\"\"\n",
    "    Args:\n",
    "        x:  numpy array of shape (height, width), 1 - mask, 0 - background\n",
    "    Returns: run length encoding as list\n",
    "    \"\"\"\n",
    "\n",
    "    dots = np.where(\n",
    "        x.T.flatten() == fg_val)[0]  # .T sets Fortran order down-then-right\n",
    "    run_lengths = []\n",
    "    prev = -2\n",
    "    for b in dots:\n",
    "        if b > prev + 1:\n",
    "            run_lengths.extend((b + 1, 0))\n",
    "        run_lengths[-1] += 1\n",
    "        prev = b\n",
    "    return run_lengths\n",
    "\n",
    "def list_to_string(x):\n",
    "    \"\"\"\n",
    "    Converts list to a string representation\n",
    "    Empty list returns '-'\n",
    "    \"\"\"\n",
    "    if x: # non-empty list\n",
    "        s = str(x).replace(\"[\", \"\").replace(\"]\", \"\").replace(\",\", \"\")\n",
    "    else:\n",
    "        s = '-'\n",
    "    return s"
   ]
  },
  {
   "cell_type": "code",
   "execution_count": 10,
   "id": "a0bbdf61",
   "metadata": {
    "papermill": {
     "duration": 0.014071,
     "end_time": "2023-07-20T16:46:19.081160",
     "exception": false,
     "start_time": "2023-07-20T16:46:19.067089",
     "status": "completed"
    },
    "tags": []
   },
   "outputs": [],
   "source": [
    "class LightningModule(pl.LightningModule):\n",
    "\n",
    "    def __init__(self, config):\n",
    "        super().__init__()\n",
    "        self.model = smp.UnetPlusPlus(encoder_name=config[\"encoder_name\"],\n",
    "                              encoder_weights=None,\n",
    "                              in_channels=3,\n",
    "                              classes=1,\n",
    "                              activation=None,\n",
    "                              )\n",
    "\n",
    "    def forward(self, batch):\n",
    "        return self.model(batch)"
   ]
  },
  {
   "cell_type": "code",
   "execution_count": 11,
   "id": "95f06b08",
   "metadata": {
    "papermill": {
     "duration": 0.013154,
     "end_time": "2023-07-20T16:46:19.099559",
     "exception": false,
     "start_time": "2023-07-20T16:46:19.086405",
     "status": "completed"
    },
    "tags": []
   },
   "outputs": [],
   "source": [
    "MODEL_PATH = glob.glob('./models/*/best_model.ckpt')"
   ]
  },
  {
   "cell_type": "code",
   "execution_count": 12,
   "id": "f56ce270-df30-46d4-8a9e-5ba2e76fa063",
   "metadata": {},
   "outputs": [
    {
     "data": {
      "text/plain": [
       "['./models/fold_1/best_model.ckpt',\n",
       " './models/fold_2/best_model.ckpt',\n",
       " './models/fold_3/best_model.ckpt',\n",
       " './models/fold_4/best_model.ckpt',\n",
       " './models/fold_5/best_model.ckpt']"
      ]
     },
     "execution_count": 12,
     "metadata": {},
     "output_type": "execute_result"
    }
   ],
   "source": [
    "MODEL_PATH"
   ]
  },
  {
   "cell_type": "code",
   "execution_count": 13,
   "id": "22edda69",
   "metadata": {
    "papermill": {
     "duration": 0.014698,
     "end_time": "2023-07-20T16:46:19.119797",
     "exception": false,
     "start_time": "2023-07-20T16:46:19.105099",
     "status": "completed"
    },
    "tags": []
   },
   "outputs": [],
   "source": [
    "test_ds = ContrailsDataset(\n",
    "        test_df,\n",
    "        config[\"model\"][\"image_size\"],\n",
    "        train = False\n",
    "    )\n",
    " \n",
    "test_dl = DataLoader(test_ds, batch_size=batch_size, num_workers = num_workers)"
   ]
  },
  {
   "cell_type": "code",
   "execution_count": 14,
   "id": "511e438a",
   "metadata": {
    "_kg_hide-output": true,
    "papermill": {
     "duration": 53.8247,
     "end_time": "2023-07-20T16:47:12.950015",
     "exception": false,
     "start_time": "2023-07-20T16:46:19.125315",
     "status": "completed"
    },
    "tags": []
   },
   "outputs": [
    {
     "name": "stdout",
     "output_type": "stream",
     "text": [
      "./models/fold_1/best_model.ckpt\n",
      "./models/fold_2/best_model.ckpt\n",
      "./models/fold_3/best_model.ckpt\n",
      "./models/fold_4/best_model.ckpt\n",
      "./models/fold_5/best_model.ckpt\n"
     ]
    }
   ],
   "source": [
    "gc.enable()\n",
    "\n",
    "all_preds = {}\n",
    "\n",
    "for i, model_path in enumerate(MODEL_PATH):\n",
    "    print(model_path)\n",
    "    model = LightningModule(config[\"model\"]).load_from_checkpoint(model_path, config=config[\"model\"])\n",
    "    model.to(device)\n",
    "    model.eval()\n",
    "\n",
    "    model_preds = {}\n",
    "    \n",
    "    for _, data in enumerate(test_dl):\n",
    "        images, image_id = data\n",
    "    \n",
    "        images = images.to(device)\n",
    "        \n",
    "        with torch.no_grad():\n",
    "            predicted_mask = model(images[:, :, :, :])\n",
    "        if config[\"model\"][\"image_size\"] != 256:\n",
    "            predicted_mask = torch.nn.functional.interpolate(predicted_mask, size=256, mode='bilinear')\n",
    "        predicted_mask = torch.sigmoid(predicted_mask).cpu().detach().numpy()\n",
    "                \n",
    "        for img_num in range(0, images.shape[0]):\n",
    "            current_mask = predicted_mask[img_num, :, :, :]\n",
    "            current_image_id = image_id[img_num].item()\n",
    "            model_preds[current_image_id] = current_mask\n",
    "    all_preds[f\"f{i}\"] = model_preds\n",
    "    \n",
    "    del model    \n",
    "    torch.cuda.empty_cache()\n",
    "    gc.collect() "
   ]
  },
  {
   "cell_type": "code",
   "execution_count": 15,
   "id": "9e39af31",
   "metadata": {
    "papermill": {
     "duration": 0.024446,
     "end_time": "2023-07-20T16:47:12.981889",
     "exception": false,
     "start_time": "2023-07-20T16:47:12.957443",
     "status": "completed"
    },
    "tags": []
   },
   "outputs": [],
   "source": [
    "for index in submission.index.tolist():\n",
    "    for i in range(len(MODEL_PATH)):\n",
    "        if i == 0:\n",
    "            predicted_mask = all_preds[f\"f{i}\"][index]\n",
    "        else:\n",
    "            predicted_mask += all_preds[f\"f{i}\"][index]\n",
    "    predicted_mask = predicted_mask / len(MODEL_PATH)\n",
    "    predicted_mask_with_threshold = np.zeros((256, 256))\n",
    "    predicted_mask_with_threshold[predicted_mask[0, :, :] < THR] = 0\n",
    "    predicted_mask_with_threshold[predicted_mask[0, :, :] > THR] = 1\n",
    "    submission.loc[int(index), 'encoded_pixels'] = list_to_string(rle_encode(predicted_mask_with_threshold))"
   ]
  },
  {
   "cell_type": "code",
   "execution_count": 16,
   "id": "6e722ac0",
   "metadata": {
    "papermill": {
     "duration": 0.022956,
     "end_time": "2023-07-20T16:47:13.011884",
     "exception": false,
     "start_time": "2023-07-20T16:47:12.988928",
     "status": "completed"
    },
    "tags": []
   },
   "outputs": [],
   "source": [
    "submission.to_csv('Submission.csv')"
   ]
  },
  {
   "cell_type": "code",
   "execution_count": null,
   "id": "c4b06270-6d7d-4cfe-bd2a-05e6bac74bfc",
   "metadata": {},
   "outputs": [],
   "source": []
  }
 ],
 "metadata": {
  "kernelspec": {
   "display_name": "Python 3 (ipykernel)",
   "language": "python",
   "name": "python3"
  },
  "language_info": {
   "codemirror_mode": {
    "name": "ipython",
    "version": 3
   },
   "file_extension": ".py",
   "mimetype": "text/x-python",
   "name": "python",
   "nbconvert_exporter": "python",
   "pygments_lexer": "ipython3",
   "version": "3.8.10"
  },
  "papermill": {
   "default_parameters": {},
   "duration": 88.991543,
   "end_time": "2023-07-20T16:47:16.590164",
   "environment_variables": {},
   "exception": null,
   "input_path": "__notebook__.ipynb",
   "output_path": "__notebook__.ipynb",
   "parameters": {},
   "start_time": "2023-07-20T16:45:47.598621",
   "version": "2.4.0"
  }
 },
 "nbformat": 4,
 "nbformat_minor": 5
}
